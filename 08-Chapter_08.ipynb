{
 "cells": [
  {
   "cell_type": "code",
   "execution_count": null,
   "metadata": {},
   "outputs": [],
   "source": [
    "if vidCap.isOpened():\n",
    "     while True:     \n",
    "         ret, frame = vidCap.read()\n",
    "         if ret:\n",
    "             gray = cv2.cvtColor(frame, cv2.COLOR_BGR2GRAY)\n",
    "             cv2.imshow('frame', frame)\n",
    "             if (cv2.waitKey(1) & 0xFF) == ord('q'):\n",
    "                 break\n",
    "         else:\n",
    "             break\n",
    "     vidCap.release()"
   ]
  }
 ],
 "metadata": {
  "language_info": {
   "name": "python"
  },
  "orig_nbformat": 4
 },
 "nbformat": 4,
 "nbformat_minor": 2
}
