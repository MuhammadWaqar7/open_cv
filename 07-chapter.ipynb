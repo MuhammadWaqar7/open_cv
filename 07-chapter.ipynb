{
 "cells": [
  {
   "cell_type": "code",
   "execution_count": 12,
   "metadata": {},
   "outputs": [],
   "source": [
    "import os"
   ]
  },
  {
   "cell_type": "code",
   "execution_count": 14,
   "metadata": {},
   "outputs": [
    {
     "name": "stdout",
     "output_type": "stream",
     "text": [
      "error in reading video\n"
     ]
    }
   ],
   "source": [
    "import cv2 as cv\n",
    "# import os\n",
    "# from scipy.__config__ import show\n",
    "\n",
    "\n",
    "cap = cv.VideoCapture('resources/video1.mp4')\n",
    "if (cap.isOpened()==False):\n",
    "    print(\"error in reading video\")\n"
   ]
  },
  {
   "cell_type": "code",
   "execution_count": 15,
   "metadata": {},
   "outputs": [
    {
     "ename": "NameError",
     "evalue": "name 'vidCap' is not defined",
     "output_type": "error",
     "traceback": [
      "\u001b[1;31m---------------------------------------------------------------------------\u001b[0m",
      "\u001b[1;31mNameError\u001b[0m                                 Traceback (most recent call last)",
      "\u001b[1;32mc:\\Users\\Musheer Khan\\Desktop\\resources\\07-chapter.ipynb Cell 3\u001b[0m in \u001b[0;36m<cell line: 1>\u001b[1;34m()\u001b[0m\n\u001b[1;32m----> <a href='vscode-notebook-cell:/c%3A/Users/Musheer%20Khan/Desktop/resources/07-chapter.ipynb#ch0000005?line=0'>1</a>\u001b[0m \u001b[39mif\u001b[39;00m vidCap\u001b[39m.\u001b[39misOpened():\n\u001b[0;32m      <a href='vscode-notebook-cell:/c%3A/Users/Musheer%20Khan/Desktop/resources/07-chapter.ipynb#ch0000005?line=1'>2</a>\u001b[0m     \u001b[39mwhile\u001b[39;00m \u001b[39mTrue\u001b[39;00m:     \n\u001b[0;32m      <a href='vscode-notebook-cell:/c%3A/Users/Musheer%20Khan/Desktop/resources/07-chapter.ipynb#ch0000005?line=2'>3</a>\u001b[0m         ret, frame \u001b[39m=\u001b[39m vidCap\u001b[39m.\u001b[39mread()\n",
      "\u001b[1;31mNameError\u001b[0m: name 'vidCap' is not defined"
     ]
    }
   ],
   "source": [
    "if vidCap.isOpened():\n",
    "    while True:     \n",
    "        ret, frame = vidCap.read()\n",
    "        if ret:\n",
    "            gray = cv2.cvtColor(frame, cv2.COLOR_BGR2GRAY)\n",
    "            cv2.imshow('frame', frame)\n",
    "            if (cv2.waitKey(1) & 0xFF) == ord('q'):\n",
    "                break\n",
    "        else:\n",
    "            break\n",
    "    vidCap.release()"
   ]
  },
  {
   "cell_type": "code",
   "execution_count": 11,
   "metadata": {},
   "outputs": [],
   "source": [
    "#reading and playing \n",
    "from tkinter import Frame\n",
    "\n",
    "\n",
    "while(cap.isOpened()):\n",
    "    ret,Frame =cap.read()\n",
    "    if ret==True:\n",
    "        cv.imshow(\"video1\",Frame)\n",
    "        if cv.whaitkey(1) & 0xFF ==ord('q'):\n",
    "            break\n",
    "        else:\n",
    "            break\n",
    "        p.release()\n",
    "        cv.destroyAllWindows()"
   ]
  },
  {
   "cell_type": "code",
   "execution_count": null,
   "metadata": {},
   "outputs": [],
   "source": []
  }
 ],
 "metadata": {
  "kernelspec": {
   "display_name": "Python 3.10.5 64-bit",
   "language": "python",
   "name": "python3"
  },
  "language_info": {
   "codemirror_mode": {
    "name": "ipython",
    "version": 3
   },
   "file_extension": ".py",
   "mimetype": "text/x-python",
   "name": "python",
   "nbconvert_exporter": "python",
   "pygments_lexer": "ipython3",
   "version": "3.10.5"
  },
  "orig_nbformat": 4,
  "vscode": {
   "interpreter": {
    "hash": "e98eaed97bf8c012f7bd5c072560526de819419eea7a1af44bf6902640304374"
   }
  }
 },
 "nbformat": 4,
 "nbformat_minor": 2
}
